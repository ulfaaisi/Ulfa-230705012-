{
  "nbformat": 4,
  "nbformat_minor": 0,
  "metadata": {
    "colab": {
      "name": "sesi1.ipynb",
      "provenance": [],
      "include_colab_link": true
    },
    "kernelspec": {
      "name": "python3",
      "display_name": "Python 3"
    }
  },
  "cells": [
    {
      "cell_type": "markdown",
      "metadata": {
        "id": "view-in-github",
        "colab_type": "text"
      },
      "source": [
        "<a href=\"https://colab.research.google.com/github/ulfaaisi/Ulfa-230705012-/blob/main/sesi1.ipynb\" target=\"_parent\"><img src=\"https://colab.research.google.com/assets/colab-badge.svg\" alt=\"Open In Colab\"/></a>"
      ]
    },
    {
      "cell_type": "markdown",
      "metadata": {
        "id": "GiSc_8aXHQSf"
      },
      "source": [
        "Menggunakan sintaks print"
      ]
    },
    {
      "cell_type": "code",
      "metadata": {
        "id": "x8gH7SdYHa8M",
        "colab": {
          "base_uri": "https://localhost:8080/"
        },
        "outputId": "cc60bf82-6f0f-45ed-b0f7-256872d3f58c"
      },
      "source": [
        "\n",
        "# Menampilkan alamat lengkap seseorang\n",
        "print(\"Ulfa Rahadatul Aisi\")\n",
        "print(\"Department of Information Technology\")\n",
        "print(\"UIN Ar-Raniry\")\n",
        "print(\"Jalan banda aceh-medan,indrapuri,seout baroh\")\n",
        "print(\"Indrapuri,23363\")\n",
        "print(\"Indonesia\")"
      ],
      "execution_count": 3,
      "outputs": [
        {
          "output_type": "stream",
          "name": "stdout",
          "text": [
            "Ulfa Rahadatul Aisi\n",
            "Department of Information Technology\n",
            "UIN Ar-Raniry\n",
            "Jalan banda aceh-medan,indrapuri,seout baroh\n",
            "Indrapuri,23363\n",
            "Indonesia\n"
          ]
        }
      ]
    },
    {
      "cell_type": "markdown",
      "metadata": {
        "id": "7tiu0HF_IRoo"
      },
      "source": [
        "Menghitung luas kamar"
      ]
    },
    {
      "cell_type": "code",
      "metadata": {
        "id": "uYw5THVfIV86"
      },
      "source": [
        "\n",
        "# Menghitung luas kamar\n",
        "\n",
        "\n",
        "# Membaca angka yang dimasukkan oleh user\n",
        "panjang = float(input(\"Masukkan ukuran panjang dalam satuan meter \"))\n",
        "lebar = float(input(\"Masukkan ukuran lebar dalam satuan meter \"))\n",
        "\n",
        "# Proses perhitungan luas\n",
        "luas = panjang * lebar\n",
        "\n",
        "# Tampilkan hasil\n",
        "print(\"Luas dari kamar ini adalah\", luas, \"meter kuadrat\")\n"
      ],
      "execution_count": null,
      "outputs": []
    },
    {
      "cell_type": "markdown",
      "metadata": {
        "id": "trRLS1YcKshT"
      },
      "source": [
        "Menghitung jumlah dari suatu bilangan"
      ]
    },
    {
      "cell_type": "code",
      "metadata": {
        "id": "RYfwo6chK1HJ"
      },
      "source": [
        "\n",
        "# Menghitung jumlah dari bilangan positif pertama\n",
        "\n",
        "# Membaca angka yang dimasukkan oleh user\n",
        "n = int(input(\"Masukkan bilangan bulat positif:\"))\n",
        "\n",
        "# Proses Menghitung jumlah\n",
        "sm = n * (n+1) / 2\n",
        "\n",
        "# Tampilkan hasil\n",
        "print(\"Jumlah pertama dari \", n, \"bilangan positif adalah\", sm)"
      ],
      "execution_count": null,
      "outputs": []
    },
    {
      "cell_type": "markdown",
      "metadata": {
        "id": "k7tQ6AlASXqA"
      },
      "source": [
        "Mengenal fungsi aritmatika"
      ]
    },
    {
      "cell_type": "code",
      "metadata": {
        "id": "TXs5C5EnSW7r"
      },
      "source": [
        "\n",
        "# Pengenalan operator matematika pada Python dan modul math\n",
        "\n",
        "\n",
        "from math import log10\n",
        "\n",
        "# Membaca input dari user\n",
        "x = int (input(\"Masukkan bilangan dari x:\"))\n",
        "y = int (input(\"Masukkan bilangan dari y:\"))\n",
        "\n",
        "# Menghitung dan menampilkan operator matematika\n",
        "print(x, \"+\", y, \"adalah\", x + y)\n",
        "print(x, \"-\", y, \"adalah\", x - y)\n",
        "print(x, \"*\", y, \"adalah\", x * y)\n",
        "print(x, \"/\", y, \"adalah\", x / y)\n",
        "print(x, \"%\", y, \"adalah\", x % y)\n",
        "\n",
        "# Menghitung logaritma dan pangkat\n",
        "print(\"Logaritma basis 10 dari\", x, \"adalah\", log10(x))\n",
        "print(x, \"^\", y, \"adalah\", x**y)\n"
      ],
      "execution_count": null,
      "outputs": []
    }
  ]
}