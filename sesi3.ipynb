{
  "nbformat": 4,
  "nbformat_minor": 0,
  "metadata": {
    "colab": {
      "name": "sesi3.ipynb",
      "provenance": [],
      "include_colab_link": true
    },
    "kernelspec": {
      "name": "python3",
      "display_name": "Python 3"
    }
  },
  "cells": [
    {
      "cell_type": "markdown",
      "metadata": {
        "id": "view-in-github",
        "colab_type": "text"
      },
      "source": [
        "<a href=\"https://colab.research.google.com/github/ulfaaisi/Ulfa-230705012-/blob/main/sesi3.ipynb\" target=\"_parent\"><img src=\"https://colab.research.google.com/assets/colab-badge.svg\" alt=\"Open In Colab\"/></a>"
      ]
    },
    {
      "cell_type": "markdown",
      "metadata": {
        "id": "HdQHl1DnS307"
      },
      "source": [
        "**Contoh sederhana perulangan for**"
      ]
    },
    {
      "cell_type": "code",
      "metadata": {
        "id": "UBsWfjkUS1ea",
        "colab": {
          "base_uri": "https://localhost:8080/"
        },
        "outputId": "b26f45e9-4636-4791-976a-82b5311ada5a"
      },
      "source": [
        "# Deklarasi variabel contoh dan 10 itu sebagai tanda 10 kali perulangan\n",
        "contoh = 10\n",
        "\n",
        "# Variabel i berfungsi untuk menampung indeks,\n",
        "# dan fungsi range() berfungsi untuk membuat list dari 0-10.\n",
        "for i in range(contoh):\n",
        "    print (\"Perulangan ke-\" +str(i))"
      ],
      "execution_count": 2,
      "outputs": [
        {
          "output_type": "stream",
          "name": "stdout",
          "text": [
            "Perulangan ke-0\n",
            "Perulangan ke-1\n",
            "Perulangan ke-2\n",
            "Perulangan ke-3\n",
            "Perulangan ke-4\n",
            "Perulangan ke-5\n",
            "Perulangan ke-6\n",
            "Perulangan ke-7\n",
            "Perulangan ke-8\n",
            "Perulangan ke-9\n"
          ]
        }
      ]
    },
    {
      "cell_type": "code",
      "metadata": {
        "id": "5S1oZePQXuI7",
        "colab": {
          "base_uri": "https://localhost:8080/"
        },
        "outputId": "2548fb2a-298e-4cac-fd50-81db4140763b"
      },
      "source": [
        "# Menampilkan range dari kumpulan deret tertentu\n",
        "# range(5,10) akan membuat deret angka mulai dari 5, 6, 7, 8, dan 9.\n",
        "\n",
        "for i in range(5,10):\n",
        "  print(i)"
      ],
      "execution_count": 9,
      "outputs": [
        {
          "output_type": "stream",
          "name": "stdout",
          "text": [
            "5\n",
            "6\n",
            "7\n",
            "8\n",
            "9\n"
          ]
        }
      ]
    },
    {
      "cell_type": "markdown",
      "metadata": {
        "id": "APu2517GUHmf"
      },
      "source": [
        "**Contoh menampilkan isi dalam body perulangan**"
      ]
    },
    {
      "cell_type": "code",
      "metadata": {
        "id": "XD8LlLIAUHMB",
        "colab": {
          "base_uri": "https://localhost:8080/"
        },
        "outputId": "461d2051-2b39-4c61-caa0-c5b5900e0e53"
      },
      "source": [
        "# Deklarasi variabel contoh2 dengan tipe list\n",
        "contoh2 = ['saya','suka','minum','es teh', 'hijau']\n",
        "\n",
        "for isi in contoh2:\n",
        "    print (isi)"
      ],
      "execution_count": 10,
      "outputs": [
        {
          "output_type": "stream",
          "name": "stdout",
          "text": [
            "saya\n",
            "suka\n",
            "minum\n",
            "es teh\n",
            "hijau\n"
          ]
        }
      ]
    },
    {
      "cell_type": "markdown",
      "metadata": {
        "id": "40KiZwfwU-yo"
      },
      "source": [
        "**Contoh menggunakan while**"
      ]
    },
    {
      "cell_type": "code",
      "metadata": {
        "id": "DuPUSTlcVD5a",
        "colab": {
          "base_uri": "https://localhost:8080/"
        },
        "outputId": "3bf01006-12f6-4e88-9ba3-2cbb5553dd2f"
      },
      "source": [
        "# Deklarasi variabel hit\n",
        "hit = 0\n",
        "# Membuat kondisi\n",
        "while (hit < 4):\n",
        "    print(hit, \"kurang dari 6\")\n",
        "    hit = hit + 1\n",
        "else:\n",
        "# Menampilkan output salam jika kondisi sudah terpenuhi\n",
        "    print(\"Salammmm\")"
      ],
      "execution_count": 5,
      "outputs": [
        {
          "output_type": "stream",
          "name": "stdout",
          "text": [
            "0 kurang dari 6\n",
            "1 kurang dari 6\n",
            "2 kurang dari 6\n",
            "3 kurang dari 6\n",
            "4 kurang dari 6\n",
            "Salammmm\n"
          ]
        }
      ]
    },
    {
      "cell_type": "markdown",
      "metadata": {
        "id": "f2KqONtGF5ll"
      },
      "source": [
        "**Program Menghitung Harga Tiket Masuk**"
      ]
    },
    {
      "cell_type": "code",
      "metadata": {
        "id": "JWRgH3jFDAxD",
        "colab": {
          "base_uri": "https://localhost:8080/"
        },
        "outputId": "1b59a02b-98d2-412b-e837-e4753c1c739f"
      },
      "source": [
        "\n",
        "# Program menghitung Faktor Persekutuan Terbesa\n",
        "\n",
        "\n",
        "# Membaca dua bilangan positif dari user\n",
        "n = int(input(\"Masukkan bilangan positif:\"))\n",
        "m = int(input(\"Masukkan bilangan positif:\"))\n",
        "\n",
        "# Inisialisasi variabel untuk nilai terkecil dari n dan m\n",
        "d = min(n, m)\n",
        "\n",
        "# Gunakan loop while untuk mencari FPT\n",
        "while n % d != 0 or m % d != 0:\n",
        "  d = d - 1\n",
        "\n",
        "# Menampilkan hasil\n",
        "print(\"Faktor persekutuan terbesar dari\", n, \"dan\", m, \" adalah\", d)\n",
        "\n"
      ],
      "execution_count": 7,
      "outputs": [
        {
          "output_type": "stream",
          "name": "stdout",
          "text": [
            "Masukkan bilangan positif:1\n",
            "Masukkan bilangan positif:3\n",
            "Faktor persekutuan terbesar dari 1 dan 3  adalah 1\n"
          ]
        }
      ]
    },
    {
      "cell_type": "markdown",
      "metadata": {
        "id": "6ziy9uooNU1w"
      },
      "source": [
        "**Program Mencari Nilai Maksimum dari 100 bilangan bulat**"
      ]
    },
    {
      "cell_type": "code",
      "metadata": {
        "id": "VMV99NcTNUEu",
        "colab": {
          "base_uri": "https://localhost:8080/"
        },
        "outputId": "6180b326-7b9a-4c29-e6ec-1a0c1795204b"
      },
      "source": [
        "\n",
        "# Menentukan nilai maksimum 100 bilangan bulat, menghitung berapa kali\n",
        "# perulangan\n",
        "\n",
        "from random import randrange\n",
        "\n",
        "BIL_ITEMS = 100\n",
        "\n",
        "# Generate the first number and menampilkan nya\n",
        "maks_nilai = randrange(1, BIL_ITEMS + 1)\n",
        "print(maks_nilai)\n",
        "\n",
        "# Menghitung berapa kali perubahan\n",
        "bil_update = 0\n",
        "\n",
        "# Untuk setiap bilangan\n",
        "for i in range(1, BIL_ITEMS):\n",
        "  # Generate bilangan acak\n",
        "  current = randrange(1, BIL_ITEMS + 1)\n",
        "\n",
        "  # Kondisi jika ditemukan bilangan terbesar\n",
        "  if current > maks_nilai:\n",
        "    # Update nilai maksimum dan hitung perubahan\n",
        "    maks_nilai = current\n",
        "    bil_update = bil_update + 1\n",
        "    # Tampilkan bilangan jika masih ada proses update\n",
        "    print(current, \"<== Update\")\n",
        "  else:\n",
        "    #Tampilkan bilangan\n",
        "    print(current)\n",
        "\n",
        "# Tampilkan Hasil Terakhir\n",
        "print(\" Nilai maksimum yang ditemukan adalah\", maks_nilai)\n",
        "print(\"Nilai maksimum yang di-update\", bil_update, \"kali\")"
      ],
      "execution_count": 8,
      "outputs": [
        {
          "output_type": "stream",
          "name": "stdout",
          "text": [
            "66\n",
            "72 <== Update\n",
            "32\n",
            "59\n",
            "36\n",
            "22\n",
            "1\n",
            "75 <== Update\n",
            "58\n",
            "64\n",
            "25\n",
            "69\n",
            "17\n",
            "58\n",
            "47\n",
            "99 <== Update\n",
            "55\n",
            "74\n",
            "92\n",
            "45\n",
            "40\n",
            "49\n",
            "63\n",
            "67\n",
            "85\n",
            "16\n",
            "76\n",
            "87\n",
            "54\n",
            "68\n",
            "42\n",
            "37\n",
            "14\n",
            "49\n",
            "4\n",
            "85\n",
            "50\n",
            "8\n",
            "60\n",
            "38\n",
            "57\n",
            "84\n",
            "10\n",
            "53\n",
            "100 <== Update\n",
            "80\n",
            "46\n",
            "60\n",
            "42\n",
            "17\n",
            "83\n",
            "50\n",
            "86\n",
            "18\n",
            "51\n",
            "80\n",
            "28\n",
            "62\n",
            "13\n",
            "45\n",
            "93\n",
            "90\n",
            "24\n",
            "66\n",
            "10\n",
            "88\n",
            "18\n",
            "34\n",
            "66\n",
            "41\n",
            "46\n",
            "2\n",
            "78\n",
            "60\n",
            "7\n",
            "42\n",
            "92\n",
            "48\n",
            "95\n",
            "88\n",
            "5\n",
            "33\n",
            "26\n",
            "90\n",
            "92\n",
            "57\n",
            "4\n",
            "78\n",
            "91\n",
            "54\n",
            "53\n",
            "57\n",
            "80\n",
            "44\n",
            "85\n",
            "9\n",
            "38\n",
            "5\n",
            "24\n",
            "63\n",
            " Nilai maksimum yang ditemukan adalah 100\n",
            "Nilai maksimum yang di-update 4 kali\n"
          ]
        }
      ]
    }
  ]
}